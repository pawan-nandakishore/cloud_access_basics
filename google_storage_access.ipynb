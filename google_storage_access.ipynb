{
 "cells": [
  {
   "cell_type": "code",
   "execution_count": 1,
   "metadata": {
    "ExecuteTime": {
     "end_time": "2019-03-30T14:51:29.098517Z",
     "start_time": "2019-03-30T14:51:28.448225Z"
    }
   },
   "outputs": [],
   "source": [
    "from google.cloud import storage\n",
    "from google.oauth2 import service_account\n",
    "\n"
   ]
  },
  {
   "cell_type": "code",
   "execution_count": 2,
   "metadata": {
    "ExecuteTime": {
     "end_time": "2019-03-30T14:51:29.216170Z",
     "start_time": "2019-03-30T14:51:29.206199Z"
    }
   },
   "outputs": [],
   "source": [
    "\n",
    "\"\"\"\n",
    " I used storage.Client.from_service_account_json(\"enter json file here\") rather than  \n",
    " credentials = service_account.Credentials.from_service_account_file('enter json file here')\n",
    " The former did not work for storage authentication but works for service \n",
    " authentication of speech to text api. Something to keep in mind while working with google cloud access  \n",
    "\n",
    "\"\"\"\n",
    "\n",
    "\n",
    "client = storage.Client.from_service_account_json('api file here')\n"
   ]
  },
  {
   "cell_type": "code",
   "execution_count": 3,
   "metadata": {
    "ExecuteTime": {
     "end_time": "2019-03-30T14:51:30.763156Z",
     "start_time": "2019-03-30T14:51:30.291299Z"
    }
   },
   "outputs": [],
   "source": [
    "# https://console.cloud.google.com/storage/browser/[bucket-id]/\n",
    "bucket = client.get_bucket('bucket name')\n",
    "\n"
   ]
  },
  {
   "cell_type": "code",
   "execution_count": 4,
   "metadata": {
    "ExecuteTime": {
     "end_time": "2019-03-30T14:51:31.838568Z",
     "start_time": "2019-03-30T14:51:31.513031Z"
    }
   },
   "outputs": [
    {
     "name": "stdout",
     "output_type": "stream",
     "text": [
      "folder_test_1/\n",
      "folder_test_1/duck.wav\n",
      "folder_test_2/\n"
     ]
    }
   ],
   "source": [
    "# listing objects in a bucket\n",
    "bucket_objects = bucket.list_blobs()\n",
    "\n",
    "# print \n",
    "for objects in bucket_objects:\n",
    "        print(objects.name)"
   ]
  },
  {
   "cell_type": "code",
   "execution_count": 7,
   "metadata": {
    "ExecuteTime": {
     "end_time": "2019-03-30T14:52:18.736196Z",
     "start_time": "2019-03-30T14:52:18.316452Z"
    }
   },
   "outputs": [],
   "source": [
    "# uploading objects to a folder.  \n",
    "upload_object = bucket.blob(\"location in the google cloud\")\n",
    "upload_object.upload_from_filename(\"name of the file to be uploaded\")\n",
    "\n"
   ]
  },
  {
   "cell_type": "code",
   "execution_count": 9,
   "metadata": {
    "ExecuteTime": {
     "end_time": "2019-03-30T14:52:33.180547Z",
     "start_time": "2019-03-30T14:52:33.167445Z"
    }
   },
   "outputs": [
    {
     "name": "stdout",
     "output_type": "stream",
     "text": [
      "Blob: folder_test_1/duck.wav\n",
      "Bucket: test_bucket_learn\n",
      "Storage class: MULTI_REGIONAL\n",
      "Size: 0 bytes\n",
      "Updated: 2019-03-30 14:52:21.815000+00:00\n"
     ]
    }
   ],
   "source": [
    "# getting metadata \n",
    "blob = upload_object\n",
    "\n",
    "\n",
    "print('Blob: {}'.format(blob.name))\n",
    "print('Bucket: {}'.format(blob.bucket.name))\n",
    "print('Storage class: {}'.format(blob.storage_class))\n",
    "print('Size: {} bytes'.format(blob.size))\n",
    "print('Updated: {}'.format(blob.updated))\n"
   ]
  },
  {
   "cell_type": "code",
   "execution_count": 10,
   "metadata": {
    "ExecuteTime": {
     "end_time": "2019-03-30T14:52:34.813169Z",
     "start_time": "2019-03-30T14:52:34.445139Z"
    }
   },
   "outputs": [],
   "source": [
    "# downloading objects from a folder.  \n",
    "download_object = bucket.blob(\"location in the google cloud\")\n",
    "\n",
    "# object is saved in the folder where you are running this code or \n",
    "# this case jupyter notebook\n",
    "download_object.download_to_filename(\"downloaded object name\")"
   ]
  },
  {
   "cell_type": "code",
   "execution_count": 11,
   "metadata": {
    "ExecuteTime": {
     "end_time": "2019-03-30T14:52:36.599453Z",
     "start_time": "2019-03-30T14:52:36.216326Z"
    }
   },
   "outputs": [],
   "source": [
    "#delete object in google storage\n",
    "delete_object = bucket.blob(\"object to be deleted\")\n",
    "delete_object.delete()\n"
   ]
  },
  {
   "cell_type": "code",
   "execution_count": null,
   "metadata": {},
   "outputs": [],
   "source": []
  }
 ],
 "metadata": {
  "kernelspec": {
   "display_name": "Python 3",
   "language": "python",
   "name": "python3"
  },
  "language_info": {
   "codemirror_mode": {
    "name": "ipython",
    "version": 3
   },
   "file_extension": ".py",
   "mimetype": "text/x-python",
   "name": "python",
   "nbconvert_exporter": "python",
   "pygments_lexer": "ipython3",
   "version": "3.6.4"
  },
  "latex_envs": {
   "LaTeX_envs_menu_present": true,
   "autoclose": true,
   "autocomplete": true,
   "bibliofile": "biblio.bib",
   "cite_by": "apalike",
   "current_citInitial": 1,
   "eqLabelWithNumbers": true,
   "eqNumInitial": 1,
   "hotkeys": {
    "equation": "Ctrl-E",
    "itemize": "Ctrl-I"
   },
   "labels_anchors": false,
   "latex_user_defs": false,
   "report_style_numbering": true,
   "user_envs_cfg": false
  },
  "toc": {
   "base_numbering": 1,
   "nav_menu": {},
   "number_sections": true,
   "sideBar": true,
   "skip_h1_title": false,
   "title_cell": "Table of Contents",
   "title_sidebar": "Contents",
   "toc_cell": false,
   "toc_position": {},
   "toc_section_display": true,
   "toc_window_display": false
  },
  "varInspector": {
   "cols": {
    "lenName": 16,
    "lenType": 16,
    "lenVar": 40
   },
   "kernels_config": {
    "python": {
     "delete_cmd_postfix": "",
     "delete_cmd_prefix": "del ",
     "library": "var_list.py",
     "varRefreshCmd": "print(var_dic_list())"
    },
    "r": {
     "delete_cmd_postfix": ") ",
     "delete_cmd_prefix": "rm(",
     "library": "var_list.r",
     "varRefreshCmd": "cat(var_dic_list()) "
    }
   },
   "types_to_exclude": [
    "module",
    "function",
    "builtin_function_or_method",
    "instance",
    "_Feature"
   ],
   "window_display": false
  }
 },
 "nbformat": 4,
 "nbformat_minor": 2
}
